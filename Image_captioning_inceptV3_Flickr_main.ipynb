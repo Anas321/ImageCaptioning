{
  "nbformat": 4,
  "nbformat_minor": 0,
  "metadata": {
    "kernelspec": {
      "name": "python3",
      "display_name": "Python 3"
    },
    "colab": {
      "name": "Image_captioning_inceptV3_Flickr_main.ipynb",
      "provenance": [],
      "collapsed_sections": [],
      "machine_shape": "hm",
      "include_colab_link": true
    },
    "accelerator": "GPU"
  },
  "cells": [
    {
      "cell_type": "markdown",
      "metadata": {
        "id": "view-in-github",
        "colab_type": "text"
      },
      "source": [
        "<a href=\"https://colab.research.google.com/github/Anas321/ImageCaptioning/blob/master/Image_captioning_inceptV3_Flickr_main.ipynb\" target=\"_parent\"><img src=\"https://colab.research.google.com/assets/colab-badge.svg\" alt=\"Open In Colab\"/></a>"
      ]
    },
    {
      "cell_type": "code",
      "metadata": {
        "id": "mpjG_SnPoJSy",
        "colab": {
          "base_uri": "https://localhost:8080/"
        },
        "outputId": "03939216-31b6-48e5-ff73-260acf53de84"
      },
      "source": [
        "from google.colab import drive\n",
        "drive.mount('/content/drive')"
      ],
      "execution_count": null,
      "outputs": [
        {
          "output_type": "stream",
          "text": [
            "Drive already mounted at /content/drive; to attempt to forcibly remount, call drive.mount(\"/content/drive\", force_remount=True).\n"
          ],
          "name": "stdout"
        }
      ]
    },
    {
      "cell_type": "code",
      "metadata": {
        "id": "QhRtvCUavjKN",
        "colab": {
          "base_uri": "https://localhost:8080/",
          "height": 36
        },
        "outputId": "2cb7af0d-fa17-448a-d729-adfe50594bab"
      },
      "source": [
        "pwd"
      ],
      "execution_count": null,
      "outputs": [
        {
          "output_type": "execute_result",
          "data": {
            "application/vnd.google.colaboratory.intrinsic+json": {
              "type": "string"
            },
            "text/plain": [
              "'/content'"
            ]
          },
          "metadata": {
            "tags": []
          },
          "execution_count": 2
        }
      ]
    },
    {
      "cell_type": "code",
      "metadata": {
        "id": "t9JPungsup7a",
        "colab": {
          "base_uri": "https://localhost:8080/"
        },
        "outputId": "bec68b0e-d9df-4c92-a478-b2502100ba4b"
      },
      "source": [
        "cd /content/drive/My Drive/Colab Notebooks/ImageCaptioning/InceptV3/"
      ],
      "execution_count": null,
      "outputs": [
        {
          "output_type": "stream",
          "text": [
            "/content/drive/My Drive/Colab Notebooks/ImageCaptioning/InceptV3\n"
          ],
          "name": "stdout"
        }
      ]
    },
    {
      "cell_type": "code",
      "metadata": {
        "id": "zO246bz9iDcd",
        "colab": {
          "base_uri": "https://localhost:8080/"
        },
        "outputId": "1afeabc1-5637-43e3-fe20-c56c17e8c5b4"
      },
      "source": [
        "!pip install pyyaml h5py  # Required to save models in HDF5 format"
      ],
      "execution_count": null,
      "outputs": [
        {
          "output_type": "stream",
          "text": [
            "Requirement already satisfied: pyyaml in /usr/local/lib/python3.6/dist-packages (3.13)\n",
            "Requirement already satisfied: h5py in /usr/local/lib/python3.6/dist-packages (2.10.0)\n",
            "Requirement already satisfied: six in /usr/local/lib/python3.6/dist-packages (from h5py) (1.15.0)\n",
            "Requirement already satisfied: numpy>=1.7 in /usr/local/lib/python3.6/dist-packages (from h5py) (1.18.5)\n"
          ],
          "name": "stdout"
        }
      ]
    },
    {
      "cell_type": "code",
      "metadata": {
        "id": "yfP2X7Ym8L3Q"
      },
      "source": [
        "from google.colab import files"
      ],
      "execution_count": null,
      "outputs": []
    },
    {
      "cell_type": "code",
      "metadata": {
        "id": "uoNg2t3SIEGl"
      },
      "source": [
        "# uploaded = files.upload()"
      ],
      "execution_count": null,
      "outputs": []
    },
    {
      "cell_type": "code",
      "metadata": {
        "id": "k2JR6VIBSmPW",
        "colab": {
          "base_uri": "https://localhost:8080/"
        },
        "outputId": "7b19897e-229a-435b-932b-21f1d66e7d5f"
      },
      "source": [
        "ls"
      ],
      "execution_count": null,
      "outputs": [
        {
          "output_type": "stream",
          "text": [
            "\u001b[0m\u001b[01;34mannotations\u001b[0m/\n",
            "cleaned_descriptions.json\n",
            "features_for_all_images_Flickr_backup.pkl\n",
            "features_for_all_images_Flickr_NEW.pkl\n",
            "features_for_all_images_Flickr.pkl\n",
            "features_for_all_images_Inception_MSCOCO.pkl\n",
            "\u001b[01;34mFlicker8k_Dataset\u001b[0m/\n",
            "\u001b[01;34mFlickr8k_text\u001b[0m/\n",
            "Image_captioning_inceptV3_Flickr_main.ipynb\n",
            "Image_captioning_inceptV3_MSCOCO.ipynb\n",
            "\u001b[01;34m__MACOSX\u001b[0m/\n",
            "model.png\n",
            "\u001b[01;34mMODELS\u001b[0m/\n",
            "tokenizer.pkl\n",
            "\u001b[01;34mtrain2014\u001b[0m/\n"
          ],
          "name": "stdout"
        }
      ]
    },
    {
      "cell_type": "markdown",
      "metadata": {
        "id": "oX5UBoHNIIEn"
      },
      "source": [
        "**Import Libraries**"
      ]
    },
    {
      "cell_type": "code",
      "metadata": {
        "id": "43lfVoIaJaF_"
      },
      "source": [
        "import re\n",
        "import os\n",
        "import time\n",
        "import math\n",
        "import json\n",
        "import pickle\n",
        "import random\n",
        "import numpy             as np\n",
        "import tensorflow        as tf\n",
        "import matplotlib.pyplot as plt\n",
        "\n",
        "from tqdm          import tqdm\n",
        "from glob          import glob\n",
        "from PIL           import Image\n",
        "from numpy         import array\n",
        "from sklearn.utils import shuffle\n",
        "\n",
        "from tensorflow.keras.models    import Model\n",
        "from tensorflow.keras.layers    import Input\n",
        "from tensorflow.keras.layers    import Dense\n",
        "from tensorflow.keras.layers    import LSTM\n",
        "from keras.optimizers           import Adam\n",
        "from keras.optimizers           import RMSprop\n",
        "from tensorflow.keras.layers    import Dropout\n",
        "from tensorflow.keras.layers    import Embedding\n",
        "from tensorflow.keras.utils     import plot_model\n",
        "from nltk.translate.bleu_score  import corpus_bleu\n",
        "from tensorflow.keras.utils     import to_categorical\n",
        "from tensorflow.keras.callbacks import ModelCheckpoint\n",
        "from sklearn.model_selection    import train_test_split\n",
        "\n",
        "from tensorflow.keras.preprocessing.text     import Tokenizer\n",
        "from tensorflow.keras.preprocessing.sequence import pad_sequences\n"
      ],
      "execution_count": null,
      "outputs": []
    },
    {
      "cell_type": "markdown",
      "metadata": {
        "id": "1iUabICDID2O"
      },
      "source": [
        "**Define Flags**"
      ]
    },
    {
      "cell_type": "code",
      "metadata": {
        "id": "pUYluZZwJaGc"
      },
      "source": [
        "PROGRESSIVE_LOADING = 0"
      ],
      "execution_count": null,
      "outputs": []
    },
    {
      "cell_type": "markdown",
      "metadata": {
        "id": "bRCvwAA2CFoV"
      },
      "source": [
        "**Load Cleaned Descriptions**"
      ]
    },
    {
      "cell_type": "code",
      "metadata": {
        "id": "1ITcGe57tUzK"
      },
      "source": [
        "def load_desc_dict(filename):\n",
        "    print('\\nLoading cleaned descriptions file...')\n",
        "    # Load pickled file \n",
        "    with open(filename, 'rb') as f:\n",
        "      desc_dict = json.load(f)\n",
        "    print('There are {} images.'.format(len(desc_dict)))\n",
        "    return desc_dict"
      ],
      "execution_count": null,
      "outputs": []
    },
    {
      "cell_type": "code",
      "metadata": {
        "colab": {
          "base_uri": "https://localhost:8080/"
        },
        "id": "NFI5gr-vrRLk",
        "outputId": "fab2f907-9bb8-4dbe-e2d7-71769fc792b9"
      },
      "source": [
        "ll"
      ],
      "execution_count": null,
      "outputs": [
        {
          "output_type": "stream",
          "text": [
            "total 999441\n",
            "drwx------ 2 root      4096 Nov  4 22:05 \u001b[0m\u001b[01;34mannotations\u001b[0m/\n",
            "-rw------- 1 root   3047050 Nov 23 02:00 cleaned_descriptions.json\n",
            "-rw------- 1 root 133296868 Nov 18 18:35 features_for_all_images_Flickr_backup.pkl\n",
            "-rw------- 1 root  67015398 Nov 18 20:02 features_for_all_images_Flickr_NEW.pkl\n",
            "-rw------- 1 root 133296868 Nov 16 17:57 features_for_all_images_Flickr.pkl\n",
            "-rw------- 1 root 686187837 Nov  3 17:40 features_for_all_images_Inception_MSCOCO.pkl\n",
            "drwx------ 2 root      4096 Nov 17 01:49 \u001b[01;34mFlicker8k_Dataset\u001b[0m/\n",
            "drwx------ 2 root      4096 Nov 17 01:51 \u001b[01;34mFlickr8k_text\u001b[0m/\n",
            "-rw------- 1 root     54298 Nov 23 17:12 Image_captioning_inceptV3_Flickr_main.ipynb\n",
            "-rw------- 1 root     67040 Nov 15 19:57 Image_captioning_inceptV3_MSCOCO.ipynb\n",
            "drwx------ 2 root      4096 Nov 17 01:49 \u001b[01;34m__MACOSX\u001b[0m/\n",
            "-rw------- 1 root     55769 Nov 23 14:28 model.png\n",
            "drwx------ 2 root      4096 Nov 23 14:50 \u001b[01;34mMODELS\u001b[0m/\n",
            "-rw------- 1 root    379745 Nov 23 17:04 tokenizer.pkl\n",
            "drwx------ 2 root      4096 Nov  5 17:40 \u001b[01;34mtrain2014\u001b[0m/\n"
          ],
          "name": "stdout"
        }
      ]
    },
    {
      "cell_type": "markdown",
      "metadata": {
        "id": "zlAugIpyJaIM"
      },
      "source": [
        "**Load Images Features**"
      ]
    },
    {
      "cell_type": "code",
      "metadata": {
        "id": "jZ31AIuyJaIO"
      },
      "source": [
        "def load_images_features(all_images_features_file_name,desc_dict_keys):\n",
        "    print('\\nLoading images features...')\n",
        "    # Load pickled file \n",
        "    with open(all_images_features_file_name, 'rb') as f:\n",
        "        all_images_features = pickle.load(f)\n",
        "    # Create images features dictionary\n",
        "    images_features = {key:all_images_features[key] for key in desc_dict_keys}\n",
        "    print('Images features loaded!')\n",
        "    single_image_features_shape = all_images_features[list(desc_dict_keys)[0]].shape\n",
        "    print('There are {} images.'.format(len(images_features)))\n",
        "    print('Single image features shape is {}'.format(single_image_features_shape))\n",
        "    return images_features"
      ],
      "execution_count": null,
      "outputs": []
    },
    {
      "cell_type": "markdown",
      "metadata": {
        "id": "7qhYS5EAJaId"
      },
      "source": [
        "**Split Data Into Training and Validation**"
      ]
    },
    {
      "cell_type": "code",
      "metadata": {
        "id": "jo6jajTjJaIg"
      },
      "source": [
        "def split_data(desc_dict, images_features, train_split_percent):\n",
        "    print('\\nSplitting data...')\n",
        "    # Split data into training and validation datasets\n",
        "    train_set_size = round(len(desc_dict)*train_split_percent)\n",
        "    valid_set_size = round(len(desc_dict)*(1-train_split_percent))\n",
        "    print('train_set_size: {}'.format(train_set_size))\n",
        "    print('valid_set_size: {}'.format(valid_set_size))\n",
        "    # If sized do not sum up, print a warning\n",
        "    if (train_set_size + valid_set_size == len(desc_dict)): pass\n",
        "    else: print('Warning: train and valid sets sizes do not sum up to the whole dataset size!!!')\n",
        "    # Shuffle images ids before splitting them\n",
        "    images_ids = list(desc_dict.keys())\n",
        "    random.shuffle(images_ids)\n",
        "    # Split images ids\n",
        "    train_images_ids = images_ids[:train_set_size]\n",
        "    valid_images_ids = images_ids[train_set_size:]\n",
        "    print('train_images_ids size :',len(train_images_ids))\n",
        "    print('valid_images_ids size :',len(valid_images_ids))\n",
        "    # Define empty lists\n",
        "    captions_train = dict()\n",
        "    captions_valid = dict()\n",
        "    images_features_train = dict()\n",
        "    images_features_valid = dict()\n",
        "    # Loop for train\n",
        "    for i in range(len(train_images_ids)):\n",
        "        key = train_images_ids[i]\n",
        "        if key not in captions_train.keys():\n",
        "            captions_train[key] = list()\n",
        "        captions_train[key].append(desc_dict[key])        \n",
        "        if key not in images_features_train.keys():\n",
        "            images_features_train[key] = list()\n",
        "        images_features_train[key].append(images_features[key])\n",
        "    # Loop for valid\n",
        "    for i in range(len(valid_images_ids)):\n",
        "        key = valid_images_ids[i]\n",
        "        if key not in captions_train.keys():\n",
        "            captions_valid[key] = list()\n",
        "        captions_valid[key].append(desc_dict[key])\n",
        "        if key not in images_features_valid.keys():\n",
        "            images_features_valid[key] = list()\n",
        "        images_features_valid[key].append(images_features[key])\n",
        "    # Print info\n",
        "    print('captions_train size       :', len(captions_train))\n",
        "    print('images_features_train size:', len(images_features_train))\n",
        "    print('captions_valid size       :', len(captions_valid))\n",
        "    print('images_features_valid size:', len(images_features_valid))\n",
        "    return captions_train, captions_valid, images_features_train, images_features_valid"
      ],
      "execution_count": null,
      "outputs": []
    },
    {
      "cell_type": "markdown",
      "metadata": {
        "id": "fyDbOz8SG5K8"
      },
      "source": [
        "**Create Tokenizer**"
      ]
    },
    {
      "cell_type": "code",
      "metadata": {
        "id": "cQ_yE2GQJaIw"
      },
      "source": [
        "def create_tokenizer(captions_train):\n",
        "    # Convert captions_train from a dictionary to a list. This is needed for the following step.\n",
        "    captions_train_list = list()\n",
        "    captions_lengths = dict()\n",
        "    unique_words = set()\n",
        "    for key in captions_train.keys():\n",
        "        for caption in captions_train[key][0]:\n",
        "            captions_train_list.append(caption)\n",
        "            # Save captions lengths, to calcualte the max_length\n",
        "            if key not in captions_lengths.keys():\n",
        "                captions_lengths[key] = list()\n",
        "            captions_lengths[key].append(len(caption.split())-2)\n",
        "            # Update unique_words set\n",
        "            unique_words.update(caption.split())\n",
        "    num_uniqe_words = len(unique_words)\n",
        "    print('--------------------------')\n",
        "    print('There are {} unique words in the training dataset.'.format(num_uniqe_words))\n",
        "    key_max = max(captions_lengths, key=captions_lengths.get)\n",
        "    print(key_max)\n",
        "    max_length = max(captions_lengths[key_max])\n",
        "    print('The longest caption is {} words length.'.format(max_length))\n",
        "    # print(captions_train[key_max][0])\n",
        "    # Create tokenizer \n",
        "    tokenizer = tf.keras.preprocessing.text.Tokenizer(num_words=num_uniqe_words, oov_token='<unk>')\n",
        "    print('Tokenizer created!')\n",
        "    print('--------------------------')\n",
        "    # Fit tokenizer on training captions\n",
        "    tokenizer.fit_on_texts(captions_train_list)\n",
        "    # save the tokenizer. it will be needed later once the model is trained and loaded for testing.\n",
        "#     print('Saving tokenizer to \\'tokenizer.pkl\\'')\n",
        "    with open('tokenizer.pkl', 'wb') as f:\n",
        "        pickle.dump(tokenizer, f)\n",
        "    return tokenizer, num_uniqe_words, max_length\n",
        "    "
      ],
      "execution_count": null,
      "outputs": []
    },
    {
      "cell_type": "markdown",
      "metadata": {
        "id": "LsDBOM9DHUPG"
      },
      "source": [
        "**Create Sequences**\n"
      ]
    },
    {
      "cell_type": "code",
      "metadata": {
        "id": "y_Y_dDpsq3Xc"
      },
      "source": [
        "def create_sequences(captions, images_features, tokenizer, num_uniqe_words, max_length):\n",
        "    # Define X1 (for image features), X2 (for input sequence), and y (for output sequence).\n",
        "    X1 = list()\n",
        "    X2 = list()\n",
        "    y  = list()\n",
        "    # Pad input sequences and one-hot-encode output sequences\n",
        "    # for captions\n",
        "    for key, captions_list in tqdm(captions.items(), desc='Creating sequence'):\n",
        "        for caption in captions_list[0]:\n",
        "            seq = tokenizer.texts_to_sequences([caption])[0]\n",
        "            for i in range(1,len(seq)):\n",
        "                in_seq  = seq[:i]\n",
        "                out_seq = seq[i]\n",
        "                # Padding\n",
        "                in_seq = tf.keras.preprocessing.sequence.pad_sequences([in_seq], maxlen=max_length)[0]\n",
        "                out_seq = tf.keras.utils.to_categorical(y=[out_seq], num_classes=num_uniqe_words)[0]\n",
        "                X1.append(images_features[key][0][0])\n",
        "                X2.append(in_seq)\n",
        "                y.append(out_seq)\n",
        "    # Make them arrays\n",
        "    X1 = array(X1) \n",
        "    X2 = array(X2, dtype='uint16') \n",
        "    y  = array(y, dtype='uint16')\n",
        "    # print('X1.shape:',X1.shape)\n",
        "    # print('X2.shape:',X2.shape)\n",
        "    # print('y.shape :',y.shape)\n",
        "    # print()\n",
        "    return X1, X2, y"
      ],
      "execution_count": null,
      "outputs": []
    },
    {
      "cell_type": "markdown",
      "metadata": {
        "id": "Z9NDieYGH4ox"
      },
      "source": [
        "**Data Generator (if needed)**"
      ]
    },
    {
      "cell_type": "code",
      "metadata": {
        "id": "ys9ZixG41rm5"
      },
      "source": [
        "def data_generator(captions, images_features, tokenizer,\n",
        "                   num_uniqe_words, max_length, num_images_generated):\n",
        "    # Define X1 (for image features), X2 (for input sequence), and y (for output sequence).\n",
        "    X1 = list()\n",
        "    X2 = list()\n",
        "    y  = list()\n",
        "    counter = 0\n",
        "    # Pad input sequences and one-hot-encode output sequences\n",
        "    # for captions\n",
        "    while 1:\n",
        "      for key, captions_list in captions.items():\n",
        "        # print(key)\n",
        "        counter+=1\n",
        "        # print(counter)\n",
        "        for caption in captions_list[0]:\n",
        "          seq = tokenizer.texts_to_sequences([caption])[0]\n",
        "          for i in range(1,len(seq)):\n",
        "            in_seq  = seq[:i]\n",
        "            out_seq = seq[i]\n",
        "            # Padding\n",
        "            in_seq = tf.keras.preprocessing.sequence.pad_sequences([in_seq], maxlen=max_length)[0]\n",
        "            out_seq = tf.keras.utils.to_categorical(y=[out_seq], num_classes=num_uniqe_words)[0]\n",
        "            X1.append(images_features[key][0][0])\n",
        "            X2.append(in_seq)\n",
        "            y.append(out_seq)\n",
        "        if counter == num_images_generated:\n",
        "        # Make them arrays\n",
        "          # print('Number of required data generated!')\n",
        "          X1 = array(X1) \n",
        "          X2 = array(X2, dtype='uint16') \n",
        "          y  = array(y, dtype='uint16')\n",
        "          yield ([X1, X2], y)\n",
        "          X1 = list()\n",
        "          X2 = list()\n",
        "          y  = list()\n",
        "          counter = 0\n"
      ],
      "execution_count": null,
      "outputs": []
    },
    {
      "cell_type": "code",
      "metadata": {
        "id": "IGGrqvqz7q8s"
      },
      "source": [
        "# ?model.compile"
      ],
      "execution_count": null,
      "outputs": []
    },
    {
      "cell_type": "markdown",
      "metadata": {
        "id": "ZLeZaEDPNUMA"
      },
      "source": [
        "----------------------"
      ]
    },
    {
      "cell_type": "markdown",
      "metadata": {
        "id": "n1v-GSOUHBth"
      },
      "source": [
        "**Main**"
      ]
    },
    {
      "cell_type": "code",
      "metadata": {
        "id": "rKBOmIxVtKju",
        "colab": {
          "base_uri": "https://localhost:8080/"
        },
        "outputId": "f8fee5d5-e243-4f7a-892a-ace4a43bef1c"
      },
      "source": [
        "# Parse descriptions data\n",
        "desc_dict = load_desc_dict('cleaned_descriptions.json')\n",
        "\n",
        "# Load images features\n",
        "filename_images_features = 'features_for_all_images_Flickr_NEW.pkl'\n",
        "images_features = load_images_features(filename_images_features,desc_dict.keys())\n",
        "\n",
        "# Split data \n",
        "captions_train, captions_valid, \\\n",
        "images_features_train, images_features_valid = split_data(desc_dict, \n",
        "                                                          images_features, \n",
        "                                                          train_split_percent=0.85)\n",
        "\n",
        "# Create tokenizer\n",
        "tokenizer, num_uniqe_words, max_length = create_tokenizer(captions_train)\n",
        "\n",
        "# Get the vocabs size\n",
        "vocabs_size = num_uniqe_words\n",
        "\n",
        "if PROGRESSIVE_LOADING == 0:\n",
        "  # Create training sequence\n",
        "  X1_train, X2_train, y_train = create_sequences(captions_train,\n",
        "                                                 images_features_train,\n",
        "                                                 tokenizer,\n",
        "                                                 num_uniqe_words,\n",
        "                                                 max_length)\n",
        "  print()\n",
        "  print()\n",
        "  print('X1_train.shape:',X1_train.shape)\n",
        "  print('X2_train.shape:',X2_train.shape)\n",
        "  print('y_train.shape :',y_train.shape)\n",
        "\n",
        "  # Create validation sequence\n",
        "  X1_valid, X2_valid, y_valid = create_sequences(captions_valid,\n",
        "                                                 images_features_valid,\n",
        "                                                 tokenizer,\n",
        "                                                 num_uniqe_words,\n",
        "                                                 max_length)\n",
        "  print()\n",
        "  print('X1_valid.shape:',X1_valid.shape)\n",
        "  print('X2_valid.shape:',X2_valid.shape)\n",
        "  print('y_valid.shape :',y_valid.shape)\n",
        "  print()"
      ],
      "execution_count": null,
      "outputs": [
        {
          "output_type": "stream",
          "text": [
            "\n",
            "Loading cleaned descriptions file...\n",
            "There are 8091 images.\n",
            "\n",
            "Loading images features...\n",
            "Images features loaded!\n",
            "There are 8091 images.\n",
            "Single image features shape is (1, 2048)\n",
            "\n",
            "Splitting data...\n",
            "train_set_size: 6877\n",
            "valid_set_size: 1214\n",
            "train_images_ids size : 6877\n",
            "valid_images_ids size : 1214\n",
            "captions_train size       : 6877\n",
            "images_features_train size: 6877\n",
            "captions_valid size       : 1214\n",
            "images_features_valid size: 1214\n",
            "--------------------------\n",
            "There are 8157 unique words in the training dataset.\n",
            "1499495021_d295ce577c\n",
            "The longest caption is 28 words length.\n",
            "Tokenizer created!\n",
            "--------------------------\n"
          ],
          "name": "stdout"
        },
        {
          "output_type": "stream",
          "text": [
            "Creating sequence: 100%|██████████| 6877/6877 [00:16<00:00, 426.47it/s]\n",
            "Creating sequence:   5%|▍         | 57/1214 [00:00<00:02, 565.44it/s]"
          ],
          "name": "stderr"
        },
        {
          "output_type": "stream",
          "text": [
            "\n",
            "\n",
            "X1_train.shape: (351315, 2048)\n",
            "X2_train.shape: (351315, 28)\n",
            "y_train.shape : (351315, 8157)\n"
          ],
          "name": "stdout"
        },
        {
          "output_type": "stream",
          "text": [
            "Creating sequence: 100%|██████████| 1214/1214 [00:02<00:00, 516.18it/s]\n"
          ],
          "name": "stderr"
        },
        {
          "output_type": "stream",
          "text": [
            "\n",
            "X1_valid.shape: (62039, 2048)\n",
            "X2_valid.shape: (62039, 28)\n",
            "y_valid.shape : (62039, 8157)\n",
            "\n"
          ],
          "name": "stdout"
        }
      ]
    },
    {
      "cell_type": "markdown",
      "metadata": {
        "id": "84gNp21tHuE6"
      },
      "source": [
        "**Define Model**"
      ]
    },
    {
      "cell_type": "code",
      "metadata": {
        "id": "PvXu-IT0JaJL"
      },
      "source": [
        "# from tensorflow.keras.layers.merge import add\n",
        "# from tensorflow.keras.layers.merge import concatenate\n",
        "# '''As of keras 2, the module keras.layers.merge doesn't have a generic public Merge-Layer. \n",
        "# Instead you are supposed to import the subclasses like keras.layers.Add or keras.layers.Concatenate etc. \n",
        "# directly (or their functional interfaces with the same names lowercase: keras.layers.add, \n",
        "# keras.layers.concatenate etc.). See what types of merging layers exist in the keras docs'''\n",
        "\n",
        "# define the captioning model\n",
        "def define_model(vocab_size, max_length, LR, dropout, num_neurons):\n",
        "    # num_neurons = 2**9  # 2**9 = 512\n",
        "    # feature extractor model\n",
        "    inputs1 = Input(shape=(2048,))\n",
        "    fe1 = Dropout(dropout)(inputs1)\n",
        "    fe2 = Dense(num_neurons, activation='relu')(fe1)\n",
        "    # sequence model\n",
        "    inputs2 = Input(shape=(max_length,))\n",
        "    se1 = Embedding(vocab_size, num_neurons, mask_zero=True)(inputs2)\n",
        "    se2 = Dropout(dropout)(se1)\n",
        "    se3 = LSTM(num_neurons)(se2)\n",
        "    # decoder model\n",
        "    decoder1 = tf.keras.layers.add([fe2, se3])\n",
        "    decoder2 = Dense(num_neurons, activation='relu')(decoder1)\n",
        "    outputs = Dense(vocab_size, activation='softmax')(decoder2)\n",
        "    # tie it together [image, seq] [word]\n",
        "    model = Model(inputs=[inputs1, inputs2], outputs=outputs)\n",
        "    model.compile(loss='categorical_crossentropy', optimizer=RMSprop(lr=LR))# RMSprop  Adam\n",
        "    # summarize model\n",
        "#     print(model.summary())\n",
        "    plot_model(model, to_file='model.png', show_shapes=True)\n",
        "    return model"
      ],
      "execution_count": null,
      "outputs": []
    },
    {
      "cell_type": "markdown",
      "metadata": {
        "id": "uLiMNKUKHoch"
      },
      "source": [
        "**Model Training**"
      ]
    },
    {
      "cell_type": "markdown",
      "metadata": {
        "id": "hEXZAo33KIiD"
      },
      "source": [
        "With No Progressive Loading"
      ]
    },
    {
      "cell_type": "code",
      "metadata": {
        "colab": {
          "base_uri": "https://localhost:8080/"
        },
        "id": "mTiZzECjUAy-",
        "outputId": "977c6e37-d182-4ac4-be0d-569a327a511d"
      },
      "source": [
        "if PROGRESSIVE_LOADING == 0:  \n",
        "  epochs      = 20\n",
        "  batch_size  = 2**12  #2^5 = 32\n",
        "  num_neurons = 2**10  # 2**9 = 512\n",
        "  LR          = 0.001\n",
        "  dropout     = 0.8\n",
        "  print('vocabs_size:', vocabs_size)\n",
        "  print('max_length :', max_length)\n",
        "  print()\n",
        "  print('epochs     :', epochs)\n",
        "  print('batch size :', batch_size)\n",
        "  print('LR         :', LR)\n",
        "  print('dropout    :', dropout)\n",
        "  print('num_neurons:', num_neurons)\n",
        "  "
      ],
      "execution_count": null,
      "outputs": [
        {
          "output_type": "stream",
          "text": [
            "vocabs_size: 8157\n",
            "max_length : 28\n",
            "\n",
            "epochs     : 20\n",
            "batch size : 4096\n",
            "LR         : 0.001\n",
            "dropout    : 0.8\n",
            "num_neurons: 1024\n"
          ],
          "name": "stdout"
        }
      ]
    },
    {
      "cell_type": "code",
      "metadata": {
        "id": "-kdTnjQwhbJw",
        "colab": {
          "base_uri": "https://localhost:8080/"
        },
        "outputId": "1a607f86-bc0a-4d0f-d8e0-139777ae7e57"
      },
      "source": [
        "if PROGRESSIVE_LOADING == 0:\n",
        "  print('vocabs_size:', vocabs_size)\n",
        "  print('max_length :', max_length)\n",
        "  print()\n",
        "  print('epochs     :', epochs)\n",
        "  print('batch size :', batch_size)\n",
        "  print('LR         :', LR)\n",
        "  print('dropout    :', dropout)\n",
        "  print('num_neurons:', num_neurons)\n",
        "  print()\n",
        "  # Define the model\n",
        "  model = define_model(vocabs_size, max_length, LR, dropout, num_neurons)\n",
        "  # define checkpoint callback\n",
        "  filepath = 'MODELS/' + 'model-' + 'batch_size' + str(batch_size) + \\\n",
        "    '-ep{epoch:03d}-loss{loss:.3f}-val_loss{val_loss:.3f}.h5'\n",
        "  # filepath = 'MODELS/model-ep{epoch:03d}-loss{loss:.3f}-val_loss{val_loss:.3f}.h5'\n",
        "  checkpoint = ModelCheckpoint(filepath, monitor='val_loss', verbose=1, save_best_only=True, mode='min')\n",
        "  # fit model\n",
        "  history = model.fit(x=[X1_train, X2_train],\n",
        "                      y=y_train,\n",
        "                      batch_size=batch_size,\n",
        "                      epochs=epochs, \n",
        "                      verbose=1, \n",
        "                      callbacks=[checkpoint], \n",
        "                      validation_data=([X1_valid, X2_valid], y_valid))"
      ],
      "execution_count": null,
      "outputs": [
        {
          "output_type": "stream",
          "text": [
            "vocabs_size: 8157\n",
            "max_length : 28\n",
            "\n",
            "epochs     : 20\n",
            "batch size : 4096\n",
            "LR         : 0.001\n",
            "dropout    : 0.8\n",
            "num_neurons: 1024\n",
            "\n",
            "Epoch 1/20\n",
            "86/86 [==============================] - ETA: 0s - loss: 5.5705\n",
            "Epoch 00001: val_loss improved from inf to 4.42974, saving model to MODELS/model-batch_size4096-ep001-loss5.571-val_loss4.430.h5\n",
            "86/86 [==============================] - 74s 862ms/step - loss: 5.5705 - val_loss: 4.4297\n",
            "Epoch 2/20\n",
            "86/86 [==============================] - ETA: 0s - loss: 4.1483\n",
            "Epoch 00002: val_loss improved from 4.42974 to 3.91188, saving model to MODELS/model-batch_size4096-ep002-loss4.148-val_loss3.912.h5\n",
            "86/86 [==============================] - 73s 847ms/step - loss: 4.1483 - val_loss: 3.9119\n",
            "Epoch 3/20\n",
            "86/86 [==============================] - ETA: 0s - loss: 3.7060\n",
            "Epoch 00003: val_loss improved from 3.91188 to 3.77080, saving model to MODELS/model-batch_size4096-ep003-loss3.706-val_loss3.771.h5\n",
            "86/86 [==============================] - 73s 849ms/step - loss: 3.7060 - val_loss: 3.7708\n",
            "Epoch 4/20\n",
            "86/86 [==============================] - ETA: 0s - loss: 3.4435\n",
            "Epoch 00004: val_loss improved from 3.77080 to 3.56066, saving model to MODELS/model-batch_size4096-ep004-loss3.443-val_loss3.561.h5\n",
            "86/86 [==============================] - 73s 848ms/step - loss: 3.4435 - val_loss: 3.5607\n",
            "Epoch 5/20\n",
            "86/86 [==============================] - ETA: 0s - loss: 3.2516\n",
            "Epoch 00005: val_loss did not improve from 3.56066\n",
            "86/86 [==============================] - 72s 836ms/step - loss: 3.2516 - val_loss: 3.5965\n",
            "Epoch 6/20\n",
            "86/86 [==============================] - ETA: 0s - loss: 3.0869\n",
            "Epoch 00006: val_loss improved from 3.56066 to 3.49089, saving model to MODELS/model-batch_size4096-ep006-loss3.087-val_loss3.491.h5\n",
            "86/86 [==============================] - 73s 844ms/step - loss: 3.0869 - val_loss: 3.4909\n",
            "Epoch 7/20\n",
            "86/86 [==============================] - ETA: 0s - loss: 2.9475\n",
            "Epoch 00007: val_loss improved from 3.49089 to 3.47566, saving model to MODELS/model-batch_size4096-ep007-loss2.948-val_loss3.476.h5\n",
            "86/86 [==============================] - 73s 844ms/step - loss: 2.9475 - val_loss: 3.4757\n",
            "Epoch 8/20\n",
            "86/86 [==============================] - ETA: 0s - loss: 2.8155\n",
            "Epoch 00008: val_loss did not improve from 3.47566\n",
            "86/86 [==============================] - 72s 833ms/step - loss: 2.8155 - val_loss: 3.6349\n",
            "Epoch 9/20\n",
            "86/86 [==============================] - ETA: 0s - loss: 2.6914\n",
            "Epoch 00009: val_loss did not improve from 3.47566\n",
            "86/86 [==============================] - 72s 833ms/step - loss: 2.6914 - val_loss: 3.6328\n",
            "Epoch 10/20\n",
            "86/86 [==============================] - ETA: 0s - loss: 2.5722\n",
            "Epoch 00010: val_loss did not improve from 3.47566\n",
            "86/86 [==============================] - 71s 830ms/step - loss: 2.5722 - val_loss: 3.7671\n",
            "Epoch 11/20\n",
            "86/86 [==============================] - ETA: 0s - loss: 2.4562\n",
            "Epoch 00011: val_loss did not improve from 3.47566\n",
            "86/86 [==============================] - 71s 830ms/step - loss: 2.4562 - val_loss: 3.8368\n",
            "Epoch 12/20\n",
            "86/86 [==============================] - ETA: 0s - loss: 2.3464\n",
            "Epoch 00012: val_loss did not improve from 3.47566\n",
            "86/86 [==============================] - 71s 829ms/step - loss: 2.3464 - val_loss: 3.8860\n",
            "Epoch 13/20\n",
            "86/86 [==============================] - ETA: 0s - loss: 2.2422\n",
            "Epoch 00013: val_loss did not improve from 3.47566\n",
            "86/86 [==============================] - 71s 830ms/step - loss: 2.2422 - val_loss: 3.9118\n",
            "Epoch 14/20\n",
            "86/86 [==============================] - ETA: 0s - loss: 2.1447\n",
            "Epoch 00014: val_loss did not improve from 3.47566\n",
            "86/86 [==============================] - 71s 829ms/step - loss: 2.1447 - val_loss: 4.1240\n",
            "Epoch 15/20\n",
            "86/86 [==============================] - ETA: 0s - loss: 2.0509\n",
            "Epoch 00015: val_loss did not improve from 3.47566\n",
            "86/86 [==============================] - 71s 829ms/step - loss: 2.0509 - val_loss: 3.9528\n",
            "Epoch 16/20\n",
            "86/86 [==============================] - ETA: 0s - loss: 1.9682\n",
            "Epoch 00016: val_loss did not improve from 3.47566\n",
            "86/86 [==============================] - 71s 830ms/step - loss: 1.9682 - val_loss: 4.0609\n",
            "Epoch 17/20\n",
            "86/86 [==============================] - ETA: 0s - loss: 1.8838\n",
            "Epoch 00017: val_loss did not improve from 3.47566\n",
            "86/86 [==============================] - 71s 831ms/step - loss: 1.8838 - val_loss: 4.4256\n",
            "Epoch 18/20\n",
            "86/86 [==============================] - ETA: 0s - loss: 1.8122\n",
            "Epoch 00018: val_loss did not improve from 3.47566\n",
            "86/86 [==============================] - 72s 832ms/step - loss: 1.8122 - val_loss: 4.5142\n",
            "Epoch 19/20\n",
            "86/86 [==============================] - ETA: 0s - loss: 1.7393\n",
            "Epoch 00019: val_loss did not improve from 3.47566\n",
            "86/86 [==============================] - 71s 829ms/step - loss: 1.7393 - val_loss: 4.6912\n",
            "Epoch 20/20\n",
            "86/86 [==============================] - ETA: 0s - loss: 1.6774\n",
            "Epoch 00020: val_loss did not improve from 3.47566\n",
            "86/86 [==============================] - 71s 827ms/step - loss: 1.6774 - val_loss: 4.5321\n"
          ],
          "name": "stdout"
        }
      ]
    },
    {
      "cell_type": "code",
      "metadata": {
        "id": "-wxzUC_NJaNf",
        "colab": {
          "base_uri": "https://localhost:8080/",
          "height": 313
        },
        "outputId": "b7456e93-7e1d-44af-a9d1-b2f2f3ce4fc9"
      },
      "source": [
        "# list all data in history\n",
        "print(history.history.keys())\n",
        "# summarize history for loss\n",
        "# plt.plot(history.history['loss'])\n",
        "# plt.plot(history.history['val_loss'])\n",
        "# plt.title('model loss')\n",
        "# plt.ylabel('loss')\n",
        "# plt.xlabel('epoch')\n",
        "# plt.legend(['train', 'test'], loc='upper right')\n",
        "# plt.yscale('log')\n",
        "# plt.show()\n",
        "plt.plot(history.history['loss'])\n",
        "plt.plot(history.history['val_loss'])\n",
        "plt.title('model loss')\n",
        "plt.ylabel('loss')\n",
        "plt.xlabel('epoch')\n",
        "plt.legend(['train', 'valid'], loc='upper right')\n",
        "plt.show()\n"
      ],
      "execution_count": null,
      "outputs": [
        {
          "output_type": "stream",
          "text": [
            "dict_keys(['loss', 'val_loss'])\n"
          ],
          "name": "stdout"
        },
        {
          "output_type": "display_data",
          "data": {
            "image/png": "[encoded data removed]",
            "text/plain": [
              "<Figure size 432x288 with 1 Axes>"
            ]
          },
          "metadata": {
            "tags": [],
            "needs_background": "light"
          }
        }
      ]
    },
    {
      "cell_type": "markdown",
      "metadata": {
        "id": "LLhgrURnKblz"
      },
      "source": [
        "With Progressive Loading"
      ]
    },
    {
      "cell_type": "code",
      "metadata": {
        "id": "ZlvQVQNCJaNV"
      },
      "source": [
        "# batch size = 2,4,8,16, 32,64, 128,256,512,1024,2048,4096,8192,16384 (2^n)\n",
        "if PROGRESSIVE_LOADING == 1:\n",
        "  # Define model\n",
        "  model = define_model(vocabs_size, max_length)\n",
        "  # Define fitting hyperparameters\n",
        "  epochs = 20\n",
        "  # batch_size_train = 100\n",
        "  # batch_size_valid = 100\n",
        "  num_images_per_batch_train = 7\n",
        "  num_images_per_batch_valid = 7\n",
        "  batch_size_train = math.ceil(len(captions_train)/num_images_per_batch_train)\n",
        "  batch_size_valid = math.ceil(len(captions_valid)/num_images_per_batch_valid)\n",
        "  # steps_per_epochs_train = num_images_per_batch_train\n",
        "  # steps_per_epochs_valid = num_images_per_batch_valid\n",
        "  print('Num. of training images  :',len(captions_train))\n",
        "  print('Num. of validation images:',len(captions_valid))\n",
        "  print('Num. of training images per batch  :',num_images_per_batch_train)\n",
        "  print('Num. of validation images per batch:',num_images_per_batch_valid)\n",
        "  print('Batch size train:',batch_size_train)\n",
        "  print('Batch size valid:',batch_size_valid)\n",
        "  print('Num. of epochs:', epochs)\n",
        "  # print('steps_per_epochs_train:',steps_per_epochs_train)\n",
        "  # print('steps_per_epochs_valid:',steps_per_epochs_valid)\n",
        "  # Loop for fitting\n",
        "  for i in range(1,epochs):\n",
        "    print('Epoch #',i)\n",
        "    # Create the data generator\n",
        "    generator_train = data_generator(captions_train, images_features_train,\n",
        "                                     tokenizer, num_uniqe_words,\n",
        "                                     max_length, num_images_per_batch_train)\n",
        "    \n",
        "    generator_valid = data_generator(captions_valid, images_features_valid,\n",
        "                                     tokenizer, num_uniqe_words,\n",
        "                                     max_length, num_images_per_batch_valid)\n",
        "    # Fit for one epoch\n",
        "    model.fit(x=generator_train, epochs=1, verbose=1,\n",
        "              steps_per_epoch=batch_size_train,\n",
        "              validation_data=generator_valid,\n",
        "              validation_steps=batch_size_valid,\n",
        "              max_queue_size=1, workers=1,\n",
        "              use_multiprocessing=False)\n",
        "    \n",
        "    # model.fit_generator(generator, epochs=1, steps_per_epoch=steps, verbose=1)\n",
        "    # Save model\n",
        "    model.save('MODELS/model_BS'+ str(batch_size_train) + '_EP' + str(i) + '.h5')"
      ],
      "execution_count": null,
      "outputs": []
    },
    {
      "cell_type": "markdown",
      "metadata": {
        "id": "uCbg_jkRIuoi"
      },
      "source": [
        "**Finally, Model Evaluation**"
      ]
    },
    {
      "cell_type": "code",
      "metadata": {
        "id": "ZPoEBxNlJaNs"
      },
      "source": [
        "# map an integer to a word\n",
        "def word_for_id(integer, tokenizer):\n",
        "    for word, index in tokenizer.word_index.items():\n",
        "        if index == integer:\n",
        "            return word\n",
        "    return None\n",
        "\n",
        "# generate a description for an image\n",
        "def generate_desc(model, tokenizer, image_features, max_length):\n",
        "    # seed the generation process\n",
        "    in_text = 'startseq'\n",
        "    # iterate over the whole length of the sequence\n",
        "    for i in range(max_length):\n",
        "        # integer encode input sequence\n",
        "        sequence = tokenizer.texts_to_sequences([in_text])[0]\n",
        "        # pad input\n",
        "        sequence = pad_sequences([sequence], maxlen=max_length)\n",
        "        # predict next word\n",
        "        yhat = model.predict([image_features, sequence], verbose=0)\n",
        "        # convert probability to integer\n",
        "        yhat = np.argmax(yhat)\n",
        "        # map integer to word\n",
        "        word = word_for_id(yhat, tokenizer)\n",
        "        # stop if we cannot map the word\n",
        "        if word is None:\n",
        "            break\n",
        "        # append as input for generating the next word\n",
        "        in_text += ' ' + word\n",
        "        # stop if we predict the end of the sequence\n",
        "        if word == 'endseq':\n",
        "            break\n",
        "    return in_text"
      ],
      "execution_count": null,
      "outputs": []
    },
    {
      "cell_type": "code",
      "metadata": {
        "id": "Yc82YmoZJaOH"
      },
      "source": [
        "# evaluate the skill of the model\n",
        "def evaluate_model(model, descriptions, images_features, tokenizer, max_length):\n",
        "    actual, predicted = list(), list()\n",
        "    # step over the whole set\n",
        "    for key, desc_list in descriptions.items():\n",
        "        # generate description\n",
        "        yhat = generate_desc(model, tokenizer, images_features[key][0], max_length)\n",
        "        # store actual and predicted\n",
        "        references = [d.split() for d in desc_list[0]]\n",
        "        actual.append(references)\n",
        "        predicted.append(yhat.split())\n",
        "    # calculate BLEU score\n",
        "    print('BLEU-1: %f' % corpus_bleu(actual, predicted, weights=(1.0, 0, 0, 0)))\n",
        "    print('BLEU-2: %f' % corpus_bleu(actual, predicted, weights=(0.5, 0.5, 0, 0)))\n",
        "    print('BLEU-3: %f' % corpus_bleu(actual, predicted, weights=(0.3, 0.3, 0.3, 0)))\n",
        "    print('BLEU-4: %f' % corpus_bleu(actual, predicted, weights=(0.25, 0.25, 0.25, 0.25)))"
      ],
      "execution_count": null,
      "outputs": []
    },
    {
      "cell_type": "code",
      "metadata": {
        "id": "ilYvmWa7JaOR",
        "colab": {
          "base_uri": "https://localhost:8080/"
        },
        "outputId": "6001c006-c7ea-483c-ce47-4ba8f53cfd0d"
      },
      "source": [
        "from keras.models import load_model\n",
        "# load the model\n",
        "# filename = 'MODELS/model-batch_size16384-ep020-loss4.922-val_loss5.565.h5'\n",
        "# model = load_model(filename)\n",
        "evaluate_model(model, captions_valid, images_features_valid, tokenizer, max_length)"
      ],
      "execution_count": null,
      "outputs": [
        {
          "output_type": "stream",
          "text": [
            "BLEU-1: 0.132812\n",
            "BLEU-2: 0.033268\n",
            "BLEU-3: 0.129783\n",
            "BLEU-4: 0.182396\n"
          ],
          "name": "stdout"
        },
        {
          "output_type": "stream",
          "text": [
            "/usr/local/lib/python3.6/dist-packages/nltk/translate/bleu_score.py:490: UserWarning: \n",
            "Corpus/Sentence contains 0 counts of 3-gram overlaps.\n",
            "BLEU scores might be undesirable; use SmoothingFunction().\n",
            "  warnings.warn(_msg)\n"
          ],
          "name": "stderr"
        }
      ]
    },
    {
      "cell_type": "code",
      "metadata": {
        "id": "DZ-BStszJaOY"
      },
      "source": [
        ""
      ],
      "execution_count": null,
      "outputs": []
    }
  ]
}