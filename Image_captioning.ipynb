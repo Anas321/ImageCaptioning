{
 "cells": [
  {
   "cell_type": "code",
   "execution_count": 1,
   "metadata": {},
   "outputs": [
    {
     "data": {
      "text/plain": [
       "'C:\\\\Users\\\\Anas\\\\ML_PROJECTS\\\\IMAGE_CAPTIONING'"
      ]
     },
     "execution_count": 1,
     "metadata": {},
     "output_type": "execute_result"
    }
   ],
   "source": [
    "pwd"
   ]
  },
  {
   "cell_type": "code",
   "execution_count": 3,
   "metadata": {},
   "outputs": [
    {
     "name": "stdout",
     "output_type": "stream",
     "text": [
      " Volume in drive C is Windows\n",
      " Volume Serial Number is 38C8-6FD5\n",
      "\n",
      " Directory of C:\\Users\\Anas\\ML_PROJECTS\\IMAGE_CAPTIONING\n",
      "\n",
      "09/29/2020  11:36 AM    <DIR>          .\n",
      "09/29/2020  11:36 AM    <DIR>          ..\n",
      "09/28/2020  04:45 PM    <DIR>          .ipynb_checkpoints\n",
      "09/29/2020  11:34 AM    <DIR>          Flickr8k_Dataset\n",
      "09/28/2020  05:37 PM     1,115,419,746 Flickr8k_Dataset.zip\n",
      "09/29/2020  11:36 AM    <DIR>          Flickr8k_text\n",
      "09/28/2020  05:31 PM         2,340,801 Flickr8k_text.zip\n",
      "09/29/2020  11:32 AM             2,391 Image_captioning.ipynb\n",
      "               3 File(s)  1,117,762,938 bytes\n",
      "               5 Dir(s)  235,968,503,808 bytes free\n"
     ]
    }
   ],
   "source": [
    "ls"
   ]
  },
  {
   "cell_type": "code",
   "execution_count": 50,
   "metadata": {},
   "outputs": [],
   "source": [
    "def load_text_file(filename):\n",
    "    file = open(filename, 'r')\n",
    "    text = file.read()\n",
    "    file.close()\n",
    "    return text"
   ]
  },
  {
   "cell_type": "code",
   "execution_count": 56,
   "metadata": {},
   "outputs": [],
   "source": [
    "def create_descriptions_dict(document):\n",
    "    desc_dict = dict()\n",
    "    for line in document.split('\\n')[0:6]:\n",
    "        tokens = line.split() # a word by word\n",
    "        image_name = tokens[0]\n",
    "        image_name = image_name.split('.')[0]\n",
    "        image_desc = tokens[1:] \n",
    "        image_desc = ' '.join(image_desc)\n",
    "        if image_name not in desc_dict:\n",
    "            desc_dict[image_name] = list()\n",
    "        desc_dict[image_name].append(image_desc)\n",
    "    return desc_dict"
   ]
  },
  {
   "cell_type": "code",
   "execution_count": 88,
   "metadata": {},
   "outputs": [],
   "source": [
    "import string\n",
    "def clean_descriptions_dict(descriptions):\n",
    "    table = str.maketrans('','', string.punctuation)\n",
    "    for key, value in descriptions.items():\n",
    "        for i in range(len(value)):\n",
    "            desc = value[i]\n",
    "            # tokenize\n",
    "            desc = desc.split()\n",
    "            # convert to lower case\n",
    "            desc = [word.lower() for word in desc]\n",
    "            # remove punctuations from each token\n",
    "            desc = [word.translate(table) for word in desc]\n",
    "            # remove any token with length < 1\n",
    "            desc = [word for word in desc if len(word)>1]\n",
    "            # remove tokens containing numbers (this could be modified based on the problem in hand)\n",
    "            desc = [word for word in desc if word.isalpha()]\n",
    "            # restor the description back to the list and save it as a string\n",
    "            value[i] = ' '.join(desc)\n"
   ]
  },
  {
   "cell_type": "code",
   "execution_count": 89,
   "metadata": {},
   "outputs": [
    {
     "name": "stdout",
     "output_type": "stream",
     "text": [
      "Created: 2 descriptions\n"
     ]
    }
   ],
   "source": [
    "# load text file\n",
    "filename = 'Flickr8k_text/Flickr8k.token.txt'\n",
    "doc = load_text_file(filename)\n",
    "# create descriptions dictionery that maps each image\n",
    "# name with its description\n",
    "descriptions = create_descriptions_dict(doc)\n",
    "print('Created: %d' % len(descriptions), 'descriptions')\n",
    "# clean descriptions\n",
    "clean_descriptions_dict(descriptions)\n"
   ]
  },
  {
   "cell_type": "code",
   "execution_count": null,
   "metadata": {},
   "outputs": [],
   "source": [
    "\n",
    "    "
   ]
  },
  {
   "cell_type": "code",
   "execution_count": null,
   "metadata": {},
   "outputs": [],
   "source": []
  },
  {
   "cell_type": "code",
   "execution_count": null,
   "metadata": {},
   "outputs": [],
   "source": []
  },
  {
   "cell_type": "code",
   "execution_count": null,
   "metadata": {},
   "outputs": [],
   "source": []
  },
  {
   "cell_type": "code",
   "execution_count": null,
   "metadata": {},
   "outputs": [],
   "source": []
  },
  {
   "cell_type": "code",
   "execution_count": null,
   "metadata": {},
   "outputs": [],
   "source": []
  },
  {
   "cell_type": "code",
   "execution_count": null,
   "metadata": {},
   "outputs": [],
   "source": []
  },
  {
   "cell_type": "code",
   "execution_count": null,
   "metadata": {},
   "outputs": [],
   "source": []
  }
 ],
 "metadata": {
  "kernelspec": {
   "display_name": "Python 3.7 (tensorflow)",
   "language": "python",
   "name": "tensorflow"
  },
  "language_info": {
   "codemirror_mode": {
    "name": "ipython",
    "version": 3
   },
   "file_extension": ".py",
   "mimetype": "text/x-python",
   "name": "python",
   "nbconvert_exporter": "python",
   "pygments_lexer": "ipython3",
   "version": "3.7.9"
  }
 },
 "nbformat": 4,
 "nbformat_minor": 4
}
